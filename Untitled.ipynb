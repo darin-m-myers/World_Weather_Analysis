{
 "cells": [
  {
   "cell_type": "code",
   "execution_count": 3,
   "id": "ae2d82ed",
   "metadata": {},
   "outputs": [],
   "source": [
    "# Dependencies and Setup\n",
    "import pandas as pd\n",
    "import requests\n",
    "import gmaps\n",
    "\n",
    "# Import API key\n",
    "from config import g_key\n",
    "\n",
    "# Configure gmaps API key\n",
    "gmaps.configure(api_key=g_key)"
   ]
  },
  {
   "cell_type": "code",
   "execution_count": 4,
   "id": "b51eb195",
   "metadata": {},
   "outputs": [
    {
     "data": {
      "text/html": [
       "<div>\n",
       "<style scoped>\n",
       "    .dataframe tbody tr th:only-of-type {\n",
       "        vertical-align: middle;\n",
       "    }\n",
       "\n",
       "    .dataframe tbody tr th {\n",
       "        vertical-align: top;\n",
       "    }\n",
       "\n",
       "    .dataframe thead th {\n",
       "        text-align: right;\n",
       "    }\n",
       "</style>\n",
       "<table border=\"1\" class=\"dataframe\">\n",
       "  <thead>\n",
       "    <tr style=\"text-align: right;\">\n",
       "      <th></th>\n",
       "      <th>City_ID</th>\n",
       "      <th>City</th>\n",
       "      <th>Country</th>\n",
       "      <th>Max Temp</th>\n",
       "      <th>Current Description</th>\n",
       "      <th>Lat</th>\n",
       "      <th>Lng</th>\n",
       "      <th>Hotel Name</th>\n",
       "    </tr>\n",
       "  </thead>\n",
       "  <tbody>\n",
       "    <tr>\n",
       "      <th>0</th>\n",
       "      <td>1</td>\n",
       "      <td>Jamestown</td>\n",
       "      <td>US</td>\n",
       "      <td>76.64</td>\n",
       "      <td>overcast clouds</td>\n",
       "      <td>42.10</td>\n",
       "      <td>-79.24</td>\n",
       "      <td>Hampton Inn &amp; Suites Jamestown</td>\n",
       "    </tr>\n",
       "    <tr>\n",
       "      <th>1</th>\n",
       "      <td>2</td>\n",
       "      <td>Lucea</td>\n",
       "      <td>JM</td>\n",
       "      <td>75.85</td>\n",
       "      <td>overcast clouds</td>\n",
       "      <td>18.45</td>\n",
       "      <td>-78.17</td>\n",
       "      <td>Grand Palladium Jamaica Resort &amp; Spa</td>\n",
       "    </tr>\n",
       "    <tr>\n",
       "      <th>2</th>\n",
       "      <td>3</td>\n",
       "      <td>Katsuura</td>\n",
       "      <td>JP</td>\n",
       "      <td>80.92</td>\n",
       "      <td>overcast clouds</td>\n",
       "      <td>35.13</td>\n",
       "      <td>140.30</td>\n",
       "      <td>Katsuura Hotel Mikazuki</td>\n",
       "    </tr>\n",
       "    <tr>\n",
       "      <th>3</th>\n",
       "      <td>7</td>\n",
       "      <td>Kollam</td>\n",
       "      <td>IN</td>\n",
       "      <td>76.10</td>\n",
       "      <td>overcast clouds</td>\n",
       "      <td>8.88</td>\n",
       "      <td>76.60</td>\n",
       "      <td>The Raviz Ashtamudi</td>\n",
       "    </tr>\n",
       "    <tr>\n",
       "      <th>4</th>\n",
       "      <td>12</td>\n",
       "      <td>Trinidad</td>\n",
       "      <td>BO</td>\n",
       "      <td>81.28</td>\n",
       "      <td>overcast clouds</td>\n",
       "      <td>-14.83</td>\n",
       "      <td>-64.90</td>\n",
       "      <td>Hotel Piesta</td>\n",
       "    </tr>\n",
       "  </tbody>\n",
       "</table>\n",
       "</div>"
      ],
      "text/plain": [
       "   City_ID       City Country  Max Temp Current Description    Lat     Lng  \\\n",
       "0        1  Jamestown      US     76.64     overcast clouds  42.10  -79.24   \n",
       "1        2      Lucea      JM     75.85     overcast clouds  18.45  -78.17   \n",
       "2        3   Katsuura      JP     80.92     overcast clouds  35.13  140.30   \n",
       "3        7     Kollam      IN     76.10     overcast clouds   8.88   76.60   \n",
       "4       12   Trinidad      BO     81.28     overcast clouds -14.83  -64.90   \n",
       "\n",
       "                             Hotel Name  \n",
       "0        Hampton Inn & Suites Jamestown  \n",
       "1  Grand Palladium Jamaica Resort & Spa  \n",
       "2               Katsuura Hotel Mikazuki  \n",
       "3                   The Raviz Ashtamudi  \n",
       "4                          Hotel Piesta  "
      ]
     },
     "execution_count": 4,
     "metadata": {},
     "output_type": "execute_result"
    }
   ],
   "source": [
    "# 1. Import the WeatherPy_database.csv file. \n",
    "clean_hotel_df = pd.read_csv(\"Vacation_Search/WeatherPy_vacation.csv\")\n",
    "clean_hotel_df.head()"
   ]
  },
  {
   "cell_type": "code",
   "execution_count": 8,
   "id": "f39cfc0a",
   "metadata": {},
   "outputs": [],
   "source": [
    "# 9. Using the template add city name, the country code, the weather description and maximum temperature for the city.\n",
    "info_box_template = \"\"\"\n",
    "<dl>\n",
    "<dt>Hotel Name</dt><dd>{Hotel Name}</dd>\n",
    "<dt>City</dt><dd>{City}</dd>\n",
    "<dt>Country</dt><dd>{Country}</dd>\n",
    "<dt>Current Weather</dt><dd>{Current Description} and {Max Temp} °F</dd>\n",
    "</dl>\n",
    "\"\"\"\n",
    "\n",
    "# 10a. Get the data from each row and add it to the formatting template and store the data in a list.\n",
    "hotel_info = [info_box_template.format(**row) for index, row in clean_hotel_df.iterrows()]\n",
    "\n",
    "# 10b. Get the latitude and longitude from each row and store in a new DataFrame.\n",
    "locations = clean_hotel_df[[\"Lat\", \"Lng\"]]"
   ]
  },
  {
   "cell_type": "code",
   "execution_count": 9,
   "id": "9eaf238b",
   "metadata": {},
   "outputs": [
    {
     "data": {
      "application/vnd.jupyter.widget-view+json": {
       "model_id": "0e4e3491abce43198ab98183f1ff9097",
       "version_major": 2,
       "version_minor": 0
      },
      "text/plain": [
       "Figure(layout=FigureLayout(height='420px'))"
      ]
     },
     "metadata": {},
     "output_type": "display_data"
    }
   ],
   "source": [
    "# 11a. Add a marker layer for each city to the map. \n",
    "locations = clean_hotel_df[[\"Lat\", \"Lng\"]]\n",
    "max_temp = clean_hotel_df[\"Max Temp\"]\n",
    "fig = gmaps.figure(center=(30.0, 31.0), zoom_level=1.5)\n",
    "marker_layer = gmaps.marker_layer(locations, info_box_content=hotel_info)\n",
    "fig.add_layer(marker_layer)\n",
    "\n",
    "# 11b. Display the figure\n",
    "fig"
   ]
  },
  {
   "cell_type": "code",
   "execution_count": null,
   "id": "4d45da86",
   "metadata": {},
   "outputs": [],
   "source": []
  }
 ],
 "metadata": {
  "kernelspec": {
   "display_name": "PythonData",
   "language": "python",
   "name": "pythondata"
  },
  "language_info": {
   "codemirror_mode": {
    "name": "ipython",
    "version": 3
   },
   "file_extension": ".py",
   "mimetype": "text/x-python",
   "name": "python",
   "nbconvert_exporter": "python",
   "pygments_lexer": "ipython3",
   "version": "3.7.13"
  }
 },
 "nbformat": 4,
 "nbformat_minor": 5
}
